{
 "cells": [
  {
   "cell_type": "code",
   "execution_count": 7,
   "id": "8655d20f-0157-4794-b2f4-6e012e306fa9",
   "metadata": {},
   "outputs": [
    {
     "name": "stdout",
     "output_type": "stream",
     "text": [
      "Dataset created and saved as 'customer_data.csv'\n"
     ]
    }
   ],
   "source": [
    "import pandas as pd\n",
    "import numpy as np\n",
    "from faker import Faker\n",
    "\n",
    "# Set random seed for reproducibility\n",
    "np.random.seed(42)\n",
    "fake = Faker()\n",
    "\n",
    "# Define the number of customers\n",
    "n_customers = 1000\n",
    "\n",
    "# Generate customer data\n",
    "data = {\n",
    "    'CustomerID': range(1, n_customers + 1),\n",
    "    'Age': np.random.randint(18, 80, n_customers),\n",
    "    'Gender': np.random.choice(['Male', 'Female'], n_customers),\n",
    "    'Tenure': np.random.randint(0, 10, n_customers),\n",
    "    'Usage': np.random.uniform(0, 1000, n_customers).round(2),\n",
    "    'MonthlyCharges': np.random.uniform(20, 100, n_customers).round(2),\n",
    "    'TotalCharges': np.zeros(n_customers),\n",
    "    'Contract': np.random.choice(['Month-to-month', 'One year', 'Two year'], n_customers),\n",
    "    'PaperlessBilling': np.random.choice(['Yes', 'No'], n_customers),\n",
    "    'PaymentMethod': np.random.choice(['Electronic check', 'Mailed check', 'Bank transfer', 'Credit card'], n_customers),\n",
    "    'Churn': np.random.choice([0, 1], n_customers, p=[0.7, 0.3])  # 30% churn rate\n",
    "}\n",
    "\n",
    "# Calculate TotalCharges\n",
    "data['TotalCharges'] = data['MonthlyCharges'] * data['Tenure']\n",
    "\n",
    "# Create DataFrame\n",
    "df = pd.DataFrame(data)\n",
    "\n",
    "# Add some correlation between features and churn\n",
    "df.loc[df['Tenure'] <= 2, 'Churn'] = np.random.choice([0, 1], sum(df['Tenure'] <= 2), p=[0.4, 0.6])\n",
    "df.loc[df['MonthlyCharges'] > 80, 'Churn'] = np.random.choice([0, 1], sum(df['MonthlyCharges'] > 80), p=[0.5, 0.5])\n",
    "\n",
    "# Save to CSV\n",
    "df.to_csv('customer_data.csv', index=False)\n",
    "\n",
    "print(\"Dataset created and saved as 'customer_data.csv'\")"
   ]
  },
  {
   "cell_type": "code",
   "execution_count": 8,
   "id": "12701141-f7c1-43b9-9ee6-698cd8af7f77",
   "metadata": {},
   "outputs": [
    {
     "name": "stdout",
     "output_type": "stream",
     "text": [
      "<class 'pandas.core.frame.DataFrame'>\n",
      "RangeIndex: 1000 entries, 0 to 999\n",
      "Data columns (total 11 columns):\n",
      " #   Column            Non-Null Count  Dtype  \n",
      "---  ------            --------------  -----  \n",
      " 0   CustomerID        1000 non-null   int64  \n",
      " 1   Age               1000 non-null   int64  \n",
      " 2   Gender            1000 non-null   object \n",
      " 3   Tenure            1000 non-null   int64  \n",
      " 4   Usage             1000 non-null   float64\n",
      " 5   MonthlyCharges    1000 non-null   float64\n",
      " 6   TotalCharges      1000 non-null   float64\n",
      " 7   Contract          1000 non-null   object \n",
      " 8   PaperlessBilling  1000 non-null   object \n",
      " 9   PaymentMethod     1000 non-null   object \n",
      " 10  Churn             1000 non-null   int64  \n",
      "dtypes: float64(3), int64(4), object(4)\n",
      "memory usage: 86.1+ KB\n",
      "None\n",
      "        CustomerID          Age       Tenure        Usage  MonthlyCharges  \\\n",
      "count  1000.000000  1000.000000  1000.000000  1000.000000     1000.000000   \n",
      "mean    500.500000    49.857000     4.411000   505.686340       60.962430   \n",
      "std     288.819436    18.114267     2.875125   291.255193       22.786698   \n",
      "min       1.000000    18.000000     0.000000     0.190000       20.040000   \n",
      "25%     250.750000    35.000000     2.000000   246.267500       41.810000   \n",
      "50%     500.500000    50.000000     4.000000   525.620000       61.595000   \n",
      "75%     750.250000    66.000000     7.000000   754.237500       80.692500   \n",
      "max    1000.000000    79.000000     9.000000   999.710000       99.960000   \n",
      "\n",
      "       TotalCharges        Churn  \n",
      "count   1000.000000  1000.000000  \n",
      "mean     265.189850     0.414000  \n",
      "std      210.162369     0.492795  \n",
      "min        0.000000     0.000000  \n",
      "25%       95.290000     0.000000  \n",
      "50%      216.700000     0.000000  \n",
      "75%      394.205000     1.000000  \n",
      "max      899.640000     1.000000  \n",
      "CustomerID          0\n",
      "Age                 0\n",
      "Gender              0\n",
      "Tenure              0\n",
      "Usage               0\n",
      "MonthlyCharges      0\n",
      "TotalCharges        0\n",
      "Contract            0\n",
      "PaperlessBilling    0\n",
      "PaymentMethod       0\n",
      "Churn               0\n",
      "dtype: int64\n"
     ]
    },
    {
     "data": {
      "image/png": "[encoded data removed]",
      "text/plain": [
       "<Figure size 800x600 with 1 Axes>"
      ]
     },
     "metadata": {},
     "output_type": "display_data"
    }
   ],
   "source": [
    "import pandas as pd\n",
    "import numpy as np\n",
    "import matplotlib.pyplot as plt\n",
    "import seaborn as sns\n",
    "\n",
    "# Load the data (assuming you have a CSV file)\n",
    "df = pd.read_csv('customer_data.csv')\n",
    "\n",
    "# Display basic information about the dataset\n",
    "print(df.info())\n",
    "print(df.describe())\n",
    "\n",
    "# Check for missing values\n",
    "print(df.isnull().sum())\n",
    "\n",
    "# Visualize the distribution of the target variable (churn)\n",
    "plt.figure(figsize=(8, 6))\n",
    "df['Churn'].value_counts().plot(kind='bar')\n",
    "plt.title('Distribution of Churn')\n",
    "plt.xlabel('Churn')\n",
    "plt.ylabel('Count')\n",
    "plt.show()\n"
   ]
  },
  {
   "cell_type": "code",
   "execution_count": 9,
   "id": "8119d64e-a7b3-46fc-8c81-fcc421835a11",
   "metadata": {},
   "outputs": [],
   "source": [
    "from sklearn.preprocessing import StandardScaler\n",
    "from sklearn.model_selection import train_test_split\n",
    "\n",
    "# Handle missing values (if any)\n",
    "df = df.dropna()  # or use imputation techniques\n",
    "\n",
    "# Convert categorical variables to numeric\n",
    "df = pd.get_dummies(df, drop_first=True)\n",
    "\n",
    "# Split features and target\n",
    "X = df.drop('Churn', axis=1)\n",
    "y = df['Churn']\n",
    "\n",
    "# Scale the features\n",
    "scaler = StandardScaler()\n",
    "X_scaled = scaler.fit_transform(X)\n",
    "\n",
    "# Split the data into training and testing sets\n",
    "X_train, X_test, y_train, y_test = train_test_split(X_scaled, y, test_size=0.2, random_state=42)"
   ]
  },
  {
   "cell_type": "code",
   "execution_count": 10,
   "id": "c67a6482-9936-43d1-b569-1fe5776d9e3f",
   "metadata": {},
   "outputs": [
    {
     "name": "stdout",
     "output_type": "stream",
     "text": [
      "Logistic Regression Metrics: {'accuracy': 0.66, 'precision': 0.5857142857142857, 'recall': 0.5125, 'f1': 0.5466666666666666}\n",
      "Random Forest Metrics: {'accuracy': 0.595, 'precision': 0.49333333333333335, 'recall': 0.4625, 'f1': 0.4774193548387097}\n",
      "\u001b[1m7/7\u001b[0m \u001b[32m━━━━━━━━━━━━━━━━━━━━\u001b[0m\u001b[37m\u001b[0m \u001b[1m0s\u001b[0m 13ms/step\n",
      "Neural Network Metrics: {'accuracy': 0.615, 'precision': 0.5172413793103449, 'recall': 0.5625, 'f1': 0.5389221556886228}\n"
     ]
    }
   ],
   "source": [
    "from models import train_logistic_regression, train_random_forest, train_neural_network, evaluate_model\n",
    "\n",
    "# Train and evaluate logistic regression\n",
    "lr_model = train_logistic_regression(X_train, y_train)\n",
    "lr_metrics = evaluate_model(lr_model, X_test, y_test)\n",
    "print(\"Logistic Regression Metrics:\", lr_metrics)\n",
    "\n",
    "# Train and evaluate random forest\n",
    "rf_model = train_random_forest(X_train, y_train)\n",
    "rf_metrics = evaluate_model(rf_model, X_test, y_test)\n",
    "print(\"Random Forest Metrics:\", rf_metrics)\n",
    "\n",
    "# Train and evaluate neural network\n",
    "nn_model = train_neural_network(X_train, y_train)\n",
    "nn_metrics = evaluate_model(nn_model, X_test, y_test)\n",
    "print(\"Neural Network Metrics:\", nn_metrics)"
   ]
  },
  {
   "cell_type": "code",
   "execution_count": null,
   "id": "b76dcff9-0b6a-4d1d-bd31-cc4da7aaba01",
   "metadata": {},
   "outputs": [],
   "source": []
  }
 ],
 "metadata": {
  "kernelspec": {
   "display_name": "Python 3 (ipykernel)",
   "language": "python",
   "name": "python3"
  },
  "language_info": {
   "codemirror_mode": {
    "name": "ipython",
    "version": 3
   },
   "file_extension": ".py",
   "mimetype": "text/x-python",
   "name": "python",
   "nbconvert_exporter": "python",
   "pygments_lexer": "ipython3",
   "version": "3.12.3"
  }
 },
 "nbformat": 4,
 "nbformat_minor": 5
}
